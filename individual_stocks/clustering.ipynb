{
 "cells": [
  {
   "cell_type": "code",
   "execution_count": 1,
   "metadata": {},
   "outputs": [],
   "source": [
    "import pandas as pd\n",
    "import numpy as np\n",
    "from xgboost import XGBRegressor\n",
    "import matplotlib.pyplot as plt\n",
    "from sklearn.impute import SimpleImputer\n",
    "from sklearn.cluster import KMeans, AffinityPropagation, MeanShift, SpectralClustering, OPTICS, Birch\n",
    "from sklearn.model_selection import train_test_split\n",
    "from sklearn.neighbors import KNeighborsClassifier\n",
    "from sklearn.feature_selection import VarianceThreshold\n",
    "from sklearn.pipeline import Pipeline\n",
    "from sklearn.preprocessing import Normalizer, RobustScaler, StandardScaler, MinMaxScaler, PowerTransformer, MaxAbsScaler, LabelEncoder\n",
    "from sklearn.model_selection import GridSearchCV\n",
    "from sklearn.metrics import mutual_info_score, adjusted_mutual_info_score, rand_score, adjusted_rand_score, completeness_score, fowlkes_mallows_score, homogeneity_score\n",
    "\n",
    "import warnings\n",
    "warnings.filterwarnings(\"ignore\")"
   ]
  },
  {
   "cell_type": "code",
   "execution_count": null,
   "metadata": {},
   "outputs": [],
   "source": [
    "df = pd.read_csv(\"/Users/nickdimmitt/Desktop/finance/data/stocks_clean.csv\")"
   ]
  },
  {
   "cell_type": "code",
   "execution_count": null,
   "metadata": {},
   "outputs": [],
   "source": [
    "df = df.loc[:,~df.columns.str.contains(\"Unnamed\")]"
   ]
  },
  {
   "cell_type": "markdown",
   "metadata": {},
   "source": [
    "## Feature Addition"
   ]
  },
  {
   "cell_type": "code",
   "execution_count": null,
   "metadata": {},
   "outputs": [],
   "source": [
    "df['year_2'] = df.groupby('ticker').cumcount()+1"
   ]
  },
  {
   "cell_type": "code",
   "execution_count": null,
   "metadata": {},
   "outputs": [],
   "source": [
    "df = df.replace(-9999, np.nan)\n",
    "df = df.replace(-np.Inf, np.nan)\n",
    "df = df.replace(np.Inf, np.nan)"
   ]
  },
  {
   "cell_type": "code",
   "execution_count": null,
   "metadata": {},
   "outputs": [],
   "source": [
    "## market cap\n",
    "mkt_cap = pd.read_csv(\"/Users/nickdimmitt/Desktop/finance/data/market_cap.csv\")\n",
    "mkt_cap['ticker'] = mkt_cap['Symbol']\n",
    "mkt_cap = mkt_cap.drop('Symbol', axis=1)\n",
    "\n",
    "df = df.merge(right=mkt_cap, how='inner', on='ticker')\n",
    "\n",
    "columns = {\n",
    "    'Market Cap':'mkt_cap',\n",
    "    'Country':'country',\n",
    "    'IPO Year':'ipo_year',\n",
    "    'Secter': 'sector'}\n",
    "df = df.rename(columns=columns)\n",
    "\n",
    "df.head()"
   ]
  },
  {
   "cell_type": "code",
   "execution_count": null,
   "metadata": {},
   "outputs": [],
   "source": [
    "df = df[~df['mkt_cap'].isna()]\n",
    "df[\"Sector\"] = df[\"Sector\"].fillna(\"N/A\")\n",
    "df = df.fillna(-1)\n",
    "df[df['year'] == 2023]['mkt_cap'] = 0"
   ]
  },
  {
   "cell_type": "code",
   "execution_count": null,
   "metadata": {},
   "outputs": [],
   "source": [
    "df.to_csv(\"/Users/nickdimmitt/Desktop/finance/data/cluster_df.csv\")"
   ]
  },
  {
   "cell_type": "markdown",
   "metadata": {},
   "source": [
    "## Clustering"
   ]
  },
  {
   "cell_type": "code",
   "execution_count": 18,
   "metadata": {},
   "outputs": [],
   "source": [
    "df = pd.read_csv(\"/Users/nickdimmitt/Desktop/finance/data/cluster_df.csv\")"
   ]
  },
  {
   "cell_type": "code",
   "execution_count": 19,
   "metadata": {},
   "outputs": [],
   "source": [
    "features = ['revenue', 'cogs', 'gross_profit', 'gross_profit_ratio',\n",
    "       'operating_expenses', 'r_&_d_expenses', 'selling_g_&_a_exp',\n",
    "       'general_and_admin_exp', 'selling_and_marketing_exp',\n",
    "       'other_expenses', 'cogs_and_expenses', 'interest_income',\n",
    "       'interest_expense', 'depreciation_and_amortization', 'ebitda',\n",
    "       'ebitda_ratio', 'operating_income', 'operating_income_ratio',\n",
    "       'total_other_income_exp_gains', 'income_before_tax',\n",
    "       'income_before_tax_ratio', 'income_tax_expense_gain', 'net_income',\n",
    "       'net_income_ratio', 'eps', 'eps_diluted',\n",
    "       'weighted_avg_shares_outs', 'weighted_avg_shares_outs_dil',\n",
    "       'cash_and_cash_equivalents', 'short_term_investments',\n",
    "       'cash_&_short_term_investments', 'net_receivables', 'inventory',\n",
    "       'other_current_assets', 'total_current_assets', 'pp_&_e',\n",
    "       'goodwill', 'intangible_assets', 'goodwill_and_intangible_assets',\n",
    "       'investments', 'tax_assets', 'other_non_current_assets',\n",
    "       'total_non_current_assets', 'other_assets', 'total_assets',\n",
    "       'accounts_payable', 'short_term_debt', 'tax_payable',\n",
    "       'deferred_revenue', 'other_current_liabilities',\n",
    "       'total_current_liabilities', 'long_term_debt',\n",
    "       'deferred_revenue_1', 'deferred_tax_liabilities',\n",
    "       'other_non_current_liabilities', 'total_non_current_liabilities',\n",
    "       'other_liabilities', 'capital_lease_obligations',\n",
    "       'total_liabilities', 'preferred_stock', 'common_stock',\n",
    "       'retained_earnings', 'other_compreh_income_loss',\n",
    "       'other_total_stockhold_equity', 'total_stockholders_equity',\n",
    "       'total_liab_&_stockhold_equity', 'minority_interest',\n",
    "       'total_liabilities_&_equity', 'net_income_1',\n",
    "       'depreciation_and_amortization_1', 'deferred_income_tax',\n",
    "       'stock_based_compensation', 'change_in_working_capital',\n",
    "       'accounts_receivable', 'inventory_1', 'accounts_payable_1',\n",
    "       'other_working_capital', 'other_non_cash_items',\n",
    "       'cash_provided_by_operating_activities', 'capex',\n",
    "       'acquisitions_net', 'purchases_of_investments',\n",
    "       'sales_maturities_of_investments', 'other_investing_activities',\n",
    "       'cash_used_for_investing_activities', 'debt_repayment',\n",
    "       'common_stock_issued', 'common_stock_repurchased',\n",
    "       'dividends_paid', 'other_financing_activities',\n",
    "       'cash_used_provided_by_financing_activities',\n",
    "       'effect_of_forex_changes_on_cash', 'net_change_in_cash',\n",
    "       'cash_at_the_end_of_period', 'cash_at_the_beginning_of_period',\n",
    "       'free_cash_flow', 'forex_rate', 'year_2', 'sector_trans']"
   ]
  },
  {
   "cell_type": "code",
   "execution_count": 20,
   "metadata": {},
   "outputs": [],
   "source": [
    "le = LabelEncoder()\n",
    "label = le.fit_transform(df['Sector'])\n",
    "df['sector_trans'] = label\n",
    "\n",
    "X = df[features]\n",
    "\n",
    "X = RobustScaler().fit_transform(X)"
   ]
  },
  {
   "cell_type": "markdown",
   "metadata": {},
   "source": [
    "### K-Means"
   ]
  },
  {
   "cell_type": "code",
   "execution_count": null,
   "metadata": {},
   "outputs": [],
   "source": [
    "Sum_of_squared_distances = []\n",
    "K = range(1,2000,75)\n",
    "for k in K:\n",
    "    km = KMeans(n_clusters=k)\n",
    "    km = km.fit(X)\n",
    "    print(km.inertia_)\n",
    "    Sum_of_squared_distances.append(km.inertia_)\n",
    "\n",
    "plt.plot(K, Sum_of_squared_distances, 'bx-')\n",
    "plt.xlabel('k')\n",
    "plt.ylabel('Sum_of_squared_distances')\n",
    "plt.title('Elbow Method For Optimal k')\n",
    "plt.show()"
   ]
  },
  {
   "cell_type": "code",
   "execution_count": 22,
   "metadata": {},
   "outputs": [],
   "source": [
    "final = pd.DataFrame()\n",
    "for x in range(250,500,10):\n",
    "    kmeans = KMeans(n_clusters=x)\n",
    "    df['labels'] = kmeans.fit_predict(X)\n",
    "\n",
    "\n",
    "    labels = list(df[df['year'] == 2022]['labels'].unique())\n",
    "    df['proj_mktcap_lbl'] = df.groupby('labels')['mkt_cap'].transform(lambda x:x.mean())\n",
    "    final = pd.concat([final, df[df['labels'].isin(labels)]])"
   ]
  },
  {
   "cell_type": "markdown",
   "metadata": {},
   "source": [
    "### Ward Clustering"
   ]
  },
  {
   "cell_type": "code",
   "execution_count": null,
   "metadata": {},
   "outputs": [],
   "source": [
    "from sklearn.cluster import AgglomerativeClustering\n",
    "from sklearn.preprocessing import RobustScaler, LabelEncoder\n",
    "from sklearn.metrics import silhouette_score\n",
    "\n",
    "range_n_clusters = range(100,1000,100)\n",
    "silhouette_avg = []\n",
    "for num_clusters in range_n_clusters:\n",
    " \n",
    " # initialise kmeans\n",
    "    ward = AgglomerativeClustering(n_clusters=num_clusters, linkage='single')\n",
    "    ward.fit(X)\n",
    "    cluster_labels = ward.labels_\n",
    "    print(num_clusters)\n",
    " # silhouette score\n",
    "    silhouette_avg.append(silhouette_score(X, cluster_labels))\n",
    "    \n",
    "plt.plot(range_n_clusters,silhouette_avg,'bx-')\n",
    "plt.xlabel('Values of K') \n",
    "plt.ylabel('Silhouette score') \n",
    "plt.title('Silhouette analysis For Optimal k')\n",
    "plt.show()"
   ]
  },
  {
   "cell_type": "code",
   "execution_count": 23,
   "metadata": {},
   "outputs": [],
   "source": [
    "from sklearn.cluster import AgglomerativeClustering\n",
    "from sklearn.preprocessing import RobustScaler, LabelEncoder\n",
    "from sklearn.metrics import silhouette_score\n",
    "\n",
    "\n",
    "clusters = range(50,200,25)\n",
    "for x in clusters:\n",
    "    ward = AgglomerativeClustering(n_clusters=x, linkage='single')\n",
    "    df['labels'] = ward.fit_predict(X)\n",
    "\n",
    "    labels = list(df[df['year'] == 2022]['labels'].unique())\n",
    "    df['proj_mktcap_lbl'] = df.groupby('labels')['mkt_cap'].transform(lambda x:x.mean())\n",
    "    final = pd.concat([final, df[df['labels'].isin(labels)]])"
   ]
  },
  {
   "cell_type": "code",
   "execution_count": 24,
   "metadata": {},
   "outputs": [],
   "source": [
    "final = final[final['year'] == 2022]\n",
    "final['proj_mktcap_comp'] = final.groupby(['ticker'])['proj_mktcap_lbl'].transform(lambda x:x.mean())\n",
    "final = final.drop_duplicates(subset='ticker')\n",
    "final.sort_values(by='proj_mktcap_comp', ascending=False).to_csv(\"/Users/nickdimmitt/Desktop/finance/data/clustered.csv\")"
   ]
  },
  {
   "cell_type": "code",
   "execution_count": 29,
   "metadata": {},
   "outputs": [],
   "source": [
    "final[['ticker', 'ipo_year', 'Sector', 'proj_mktcap_comp']].sort_values(by='proj_mktcap_comp', ascending=False).to_csv(\"clustered_1.csv\")"
   ]
  },
  {
   "cell_type": "code",
   "execution_count": null,
   "metadata": {},
   "outputs": [],
   "source": []
  }
 ],
 "metadata": {
  "kernelspec": {
   "display_name": "Python 3.10.7 64-bit",
   "language": "python",
   "name": "python3"
  },
  "language_info": {
   "codemirror_mode": {
    "name": "ipython",
    "version": 3
   },
   "file_extension": ".py",
   "mimetype": "text/x-python",
   "name": "python",
   "nbconvert_exporter": "python",
   "pygments_lexer": "ipython3",
   "version": "3.10.7"
  },
  "orig_nbformat": 4,
  "vscode": {
   "interpreter": {
    "hash": "aee8b7b246df8f9039afb4144a1f6fd8d2ca17a180786b69acc140d282b71a49"
   }
  }
 },
 "nbformat": 4,
 "nbformat_minor": 2
}
