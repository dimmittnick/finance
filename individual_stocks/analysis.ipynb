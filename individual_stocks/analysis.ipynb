{
 "cells": [
  {
   "cell_type": "code",
   "execution_count": 2,
   "metadata": {},
   "outputs": [],
   "source": [
    "import pandas as pd\n",
    "import numpy as np\n",
    "import sys\n",
    "from sklearn.model_selection import train_test_split\n",
    "from sklearn.neighbors import KNeighborsClassifier\n",
    "from sklearn.feature_selection import VarianceThreshold\n",
    "from sklearn.pipeline import Pipeline\n",
    "from sklearn.preprocessing import Normalizer, StandardScaler, MinMaxScaler, PowerTransformer, MaxAbsScaler, LabelEncoder\n",
    "from sklearn.model_selection import GridSearchCV"
   ]
  },
  {
   "cell_type": "markdown",
   "id": "f5aa914b",
   "metadata": {},
   "source": [
    "## Data"
   ]
  },
  {
   "cell_type": "code",
   "execution_count": 30,
   "id": "54e571b3",
   "metadata": {},
   "outputs": [],
   "source": [
    "df1 = pd.read_csv('/Users/nickdimmitt/Desktop/finance/data/stocks_1000.csv', skiprows=[0])\n",
    "df1['ticker'] = df1['A']\n",
    "df1 = df1.drop('A',axis=1)\n",
    "\n",
    "df2 = pd.read_csv('/Users/nickdimmitt/Desktop/finance/data/stocks_2000.csv', skiprows=[0])\n",
    "df2['ticker'] = df2['BIP']\n",
    "df2 = df2.drop('BIP', axis=1)\n",
    "\n",
    "df3 = pd.read_csv('/Users/nickdimmitt/Desktop/finance/data/stocks_3000.csv', skiprows=[0])\n",
    "df3['ticker'] = df3['DAVEW']\n",
    "df3 = df3.drop('DAVEW', axis=1)\n",
    "\n",
    "df4 = pd.read_csv('/Users/nickdimmitt/Desktop/finance/data/stocks_4000.csv', skiprows=[0])\n",
    "df4['ticker'] = df4['GDYN']\n",
    "df4 = df4.drop('GDYN', axis=1)\n",
    "\n",
    "df5 = pd.read_csv('/Users/nickdimmitt/Desktop/finance/data/stocks_5000.csv', skiprows=[0])\n",
    "df5['ticker'] = df5['KARO']\n",
    "df5 = df5.drop('KARO', axis=1)\n",
    "\n",
    "df6 = pd.read_csv('/Users/nickdimmitt/Desktop/finance/data/stocks_6000.csv', skiprows=[0])\n",
    "df6['ticker'] = df6['NIU']\n",
    "df6 = df6.drop('NIU', axis=1)\n",
    "\n",
    "df7 = pd.read_csv('/Users/nickdimmitt/Desktop/finance/data/stocks_7000.csv', skiprows=[0])\n",
    "df7['ticker'] = df7['RCS']\n",
    "df7 = df7.drop('RCS', axis=1)\n",
    "\n",
    "df8 = pd.read_csv('/Users/nickdimmitt/Desktop/finance/data/stocks_8000.csv', skiprows=[0])\n",
    "df8['ticker'] = df8['TGB']\n",
    "df8 = df8.drop('TGB', axis=1)"
   ]
  },
  {
   "cell_type": "code",
   "execution_count": 39,
   "id": "166c3a10",
   "metadata": {},
   "outputs": [],
   "source": [
    "df = pd.concat([df1, df2, df3, df4, df5, df6, df7, df8])\n",
    "df = df.drop('0', axis=1)"
   ]
  },
  {
   "cell_type": "markdown",
   "id": "3e0bc922",
   "metadata": {},
   "source": [
    "## Cleaning"
   ]
  },
  {
   "cell_type": "code",
   "execution_count": 77,
   "id": "c2ce65a5",
   "metadata": {},
   "outputs": [
    {
     "data": {
      "text/plain": [
       "Year                               169\n",
       "Revenue                            319\n",
       "COGS                               319\n",
       "Gross Profit                       319\n",
       "Gross Profit Ratio                 319\n",
       "                                  ... \n",
       "Cash at the Beginning of Period    319\n",
       "Free Cash Flow                     319\n",
       "SEC Link.2                         319\n",
       "Forex Rate                         319\n",
       "ticker                               6\n",
       "Length: 102, dtype: int64"
      ]
     },
     "execution_count": 77,
     "metadata": {},
     "output_type": "execute_result"
    }
   ],
   "source": [
    "df.isna().sum()"
   ]
  },
  {
   "cell_type": "code",
   "execution_count": null,
   "id": "48ffca3a",
   "metadata": {},
   "outputs": [],
   "source": []
  }
 ],
 "metadata": {
  "kernelspec": {
   "display_name": "Python 3.10.7 64-bit",
   "language": "python",
   "name": "python3"
  },
  "language_info": {
   "codemirror_mode": {
    "name": "ipython",
    "version": 3
   },
   "file_extension": ".py",
   "mimetype": "text/x-python",
   "name": "python",
   "nbconvert_exporter": "python",
   "pygments_lexer": "ipython3",
   "version": "3.10.7"
  },
  "vscode": {
   "interpreter": {
    "hash": "aee8b7b246df8f9039afb4144a1f6fd8d2ca17a180786b69acc140d282b71a49"
   }
  }
 },
 "nbformat": 4,
 "nbformat_minor": 5
}
