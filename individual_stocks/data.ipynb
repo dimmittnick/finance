{
 "cells": [
  {
   "cell_type": "code",
   "execution_count": 1,
   "metadata": {},
   "outputs": [],
   "source": [
    "import pandas as pd\n",
    "import numpy as np\n",
    "import requests\n",
    "import json\n",
    "from lxml import etree, html\n",
    "\n",
    "htmlparser =  etree.HTMLParser()"
   ]
  },
  {
   "cell_type": "code",
   "execution_count": 2,
   "metadata": {},
   "outputs": [],
   "source": [
    "\n",
    "def data_grab(tickers):\n",
    "    companies_df = pd.DataFrame()\n",
    "    \n",
    "    for ticker in tickers:\n",
    "        print(ticker)\n",
    "        url = f\"https://roic.ai/financials/{ticker}\"\n",
    "        results = requests.get(url)\n",
    "\n",
    "        if results.status_code != 200:\n",
    "            continue\n",
    "\n",
    "        else:\n",
    "            tree = html.fromstring(results.content)\n",
    "            xpath_head = '//div[@class = \"grid grid-flow-col w-full bg-white justify-items-center\"]//text()'\n",
    "            xpath_body = '//div[@class = \" flex-col overflow-x-auto \"]//text()'\n",
    "            head = tree.xpath(xpath_head)\n",
    "            head.insert(0, \"Year\")\n",
    "            financials = tree.xpath(xpath_body)\n",
    "            financials = [x for x in financials if x not in ['Income Statement', 'Balance Sheet', 'Cash Flow Statement']]\n",
    "            lol = [financials[i:i+len(head)] for i in range(0,len(financials),len(head))]\n",
    "            lol.insert(0, head)\n",
    "            df = pd.DataFrame(lol)\n",
    "            df.shape\n",
    "            if type(df) == \"NoneType\":\n",
    "                continue\n",
    "            else:\n",
    "                df = df.T\n",
    "                df['Ticker'] = ticker\n",
    "                companies_df = pd.concat([companies_df, df])\n",
    "\n",
    "    return companies_df\n"
   ]
  },
  {
   "cell_type": "code",
   "execution_count": 3,
   "metadata": {},
   "outputs": [],
   "source": [
    "tickers_df = pd.read_csv(\"/Users/nickdimmitt/Desktop/dfs_local/nasdaq.csv\")"
   ]
  },
  {
   "cell_type": "code",
   "execution_count": 4,
   "metadata": {},
   "outputs": [],
   "source": [
    "tickers = list(tickers_df['Symbol'])"
   ]
  },
  {
   "cell_type": "code",
   "execution_count": 5,
   "metadata": {},
   "outputs": [
    {
     "data": {
      "text/plain": [
       "7916"
      ]
     },
     "execution_count": 5,
     "metadata": {},
     "output_type": "execute_result"
    }
   ],
   "source": [
    "len(tickers)"
   ]
  },
  {
   "cell_type": "code",
   "execution_count": 8,
   "metadata": {},
   "outputs": [
    {
     "name": "stdout",
     "output_type": "stream",
     "text": [
      "DAVEW\n",
      "DAWN\n",
      "DB\n",
      "DBD\n",
      "DBGI\n",
      "DBGIW\n",
      "DBI\n",
      "DBL\n",
      "DBRG\n",
      "DBRG^H\n",
      "DBRG^I\n",
      "DBRG^J\n",
      "DBTX\n",
      "DBVT\n",
      "DBX\n",
      "DC\n",
      "DCBO\n",
      "DCF\n",
      "DCFC\n",
      "DCFCW\n",
      "DCGO\n",
      "DCI\n",
      "DCO\n",
      "DCOM\n",
      "DCOMP\n",
      "DCP\n",
      "DCP^B\n",
      "DCP^C\n",
      "DCPH\n",
      "DCT\n",
      "DCTH\n",
      "DD\n",
      "DDD\n",
      "DDF\n",
      "DDI\n",
      "DDL\n",
      "DDOG\n",
      "DDS\n",
      "DDT\n",
      "DE\n",
      "DEA\n",
      "DECA\n",
      "DECAU\n",
      "DECK\n",
      "DEI\n",
      "DELL\n",
      "DEN\n",
      "DENN\n",
      "DEO\n",
      "DERM\n",
      "DESP\n",
      "DEX\n",
      "DFFN\n",
      "DFH\n",
      "DFIN\n",
      "DFLI\n",
      "DFLIW\n",
      "DFP\n",
      "DFS\n",
      "DG\n",
      "DGHI\n",
      "DGICA\n",
      "DGICB\n",
      "DGII\n",
      "DGLY\n",
      "DGNU\n",
      "DGX\n",
      "DH\n",
      "DHAC\n",
      "DHACW\n",
      "DHC\n",
      "DHCA\n",
      "DHCAU\n",
      "DHCAW\n",
      "DHCNI\n",
      "DHCNL\n",
      "DHF\n",
      "DHHC\n",
      "DHHCW\n",
      "DHI\n",
      "DHIL\n",
      "DHR\n",
      "DHR^B\n",
      "DHT\n",
      "DHX\n",
      "DHY\n",
      "DIAX\n",
      "DIBS\n",
      "DICE\n",
      "DIN\n",
      "DINO\n",
      "DIOD\n",
      "DIS\n",
      "DISA\n",
      "DISAU\n",
      "DISAW\n",
      "DISH\n",
      "DISTU\n",
      "DIT\n",
      "DJCO\n",
      "DK\n",
      "DKDCA\n",
      "DKL\n",
      "DKNG\n",
      "DKS\n",
      "DLA\n",
      "DLB\n",
      "DLHC\n",
      "DLNG\n",
      "DLNG^A\n",
      "DLNG^B\n",
      "DLO\n",
      "DLPN\n",
      "DLR\n",
      "DLR^J\n",
      "DLR^K\n",
      "DLR^L\n",
      "DLTH\n",
      "DLTR\n",
      "DLX\n",
      "DLY\n",
      "DM\n",
      "DMA\n",
      "DMAC\n",
      "DMB\n",
      "DMF\n",
      "DMLP\n",
      "DMO\n",
      "DMRC\n",
      "DMS\n",
      "DMTK\n",
      "DMYS\n",
      "DMYY\n",
      "DNA\n",
      "DNAB\n",
      "DNAD\n",
      "DNB\n",
      "DNLI\n",
      "DNMR\n",
      "DNN\n",
      "DNOW\n",
      "DNP\n",
      "DNUT\n"
     ]
    }
   ],
   "source": [
    "df = data_grab(tickers[2000:3000])\n",
    "df.to_csv(\"stocks_3000.csv\")"
   ]
  },
  {
   "cell_type": "code",
   "execution_count": null,
   "metadata": {},
   "outputs": [],
   "source": [
    "df = data_grab(tickers[3000:4000])\n",
    "df.to_csv(\"stocks_4000.csv\")"
   ]
  },
  {
   "cell_type": "code",
   "execution_count": null,
   "metadata": {},
   "outputs": [],
   "source": [
    "df = data_grab(tickers[4000:5000])\n",
    "df.to_csv(\"stocks_5000.csv\")"
   ]
  },
  {
   "cell_type": "code",
   "execution_count": null,
   "metadata": {},
   "outputs": [],
   "source": [
    "df = data_grab(tickers[5000:6000])\n",
    "df.to_csv(\"stocks_6000.csv\")"
   ]
  },
  {
   "cell_type": "code",
   "execution_count": null,
   "metadata": {},
   "outputs": [],
   "source": [
    "df = data_grab(tickers[6000:7000])\n",
    "df.to_csv(\"stocks_7000.csv\")"
   ]
  },
  {
   "cell_type": "code",
   "execution_count": null,
   "metadata": {},
   "outputs": [],
   "source": [
    "df = data_grab(tickers[7000:])\n",
    "df.to_csv(\"stocks_8000.csv\")"
   ]
  },
  {
   "cell_type": "code",
   "execution_count": null,
   "metadata": {},
   "outputs": [],
   "source": []
  }
 ],
 "metadata": {
  "kernelspec": {
   "display_name": "Python 3.10.7 64-bit",
   "language": "python",
   "name": "python3"
  },
  "language_info": {
   "codemirror_mode": {
    "name": "ipython",
    "version": 3
   },
   "file_extension": ".py",
   "mimetype": "text/x-python",
   "name": "python",
   "nbconvert_exporter": "python",
   "pygments_lexer": "ipython3",
   "version": "3.10.7"
  },
  "orig_nbformat": 4,
  "vscode": {
   "interpreter": {
    "hash": "aee8b7b246df8f9039afb4144a1f6fd8d2ca17a180786b69acc140d282b71a49"
   }
  }
 },
 "nbformat": 4,
 "nbformat_minor": 2
}
