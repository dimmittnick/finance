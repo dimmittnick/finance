{
 "cells": [
  {
   "cell_type": "code",
   "execution_count": 1,
   "metadata": {},
   "outputs": [],
   "source": [
    "import pandas as pd\n",
    "import numpy as np\n",
    "import sys\n",
    "from skimpy import clean_columns"
   ]
  },
  {
   "cell_type": "markdown",
   "id": "f5aa914b",
   "metadata": {},
   "source": [
    "## Data"
   ]
  },
  {
   "cell_type": "code",
   "execution_count": 22,
   "id": "54e571b3",
   "metadata": {},
   "outputs": [],
   "source": [
    "df1 = pd.read_csv('/Users/nickdimmitt/Desktop/finance/data/stocks_1000.csv', skiprows=[0])\n",
    "df1['ticker'] = df1['A']\n",
    "df1 = df1.drop('A',axis=1)\n",
    "\n",
    "df2 = pd.read_csv('/Users/nickdimmitt/Desktop/finance/data/stocks_2000.csv', skiprows=[0])\n",
    "df2['ticker'] = df2['BIP']\n",
    "df2 = df2.drop('BIP', axis=1)\n",
    "\n",
    "df3 = pd.read_csv('/Users/nickdimmitt/Desktop/finance/data/stocks_3000.csv', skiprows=[0])\n",
    "df3['ticker'] = df3['DAVEW']\n",
    "df3 = df3.drop('DAVEW', axis=1)\n",
    "\n",
    "df4 = pd.read_csv('/Users/nickdimmitt/Desktop/finance/data/stocks_4000.csv', skiprows=[0])\n",
    "df4['ticker'] = df4['GDYN']\n",
    "df4 = df4.drop('GDYN', axis=1)\n",
    "\n",
    "df5 = pd.read_csv('/Users/nickdimmitt/Desktop/finance/data/stocks_5000.csv', skiprows=[0])\n",
    "df5['ticker'] = df5['KARO']\n",
    "df5 = df5.drop('KARO', axis=1)\n",
    "\n",
    "df6 = pd.read_csv('/Users/nickdimmitt/Desktop/finance/data/stocks_6000.csv', skiprows=[0])\n",
    "df6['ticker'] = df6['NIU']\n",
    "df6 = df6.drop('NIU', axis=1)\n",
    "\n",
    "df7 = pd.read_csv('/Users/nickdimmitt/Desktop/finance/data/stocks_7000.csv', skiprows=[0])\n",
    "df7['ticker'] = df7['RCS']\n",
    "df7 = df7.drop('RCS', axis=1)\n",
    "\n",
    "df8 = pd.read_csv('/Users/nickdimmitt/Desktop/finance/data/stocks_8000.csv', skiprows=[0])\n",
    "df8['ticker'] = df8['TGB']\n",
    "df8 = df8.drop('TGB', axis=1)"
   ]
  },
  {
   "cell_type": "code",
   "execution_count": 23,
   "id": "166c3a10",
   "metadata": {},
   "outputs": [],
   "source": [
    "df = pd.concat([df1, df2, df3, df4, df5, df6, df7, df8])\n",
    "df = df.drop('0', axis=1)"
   ]
  },
  {
   "cell_type": "markdown",
   "id": "3e0bc922",
   "metadata": {},
   "source": [
    "## Cleaning"
   ]
  },
  {
   "cell_type": "code",
   "execution_count": 24,
   "id": "c2ce65a5",
   "metadata": {},
   "outputs": [],
   "source": [
    "df = df.drop_duplicates(subset=['Year', 'Revenue', 'COGS', 'Gross Profit', 'Gross Profit Ratio',\n",
    "       'Operating Expenses', 'R&D Expenses', 'Selling, G&A Exp.',\n",
    "       'General and Admin. Exp.', 'Selling and Marketing Exp.',\n",
    "       'Other Expenses', 'COGS and Expenses', 'Interest Income',\n",
    "       'Interest Expense', 'Depreciation and Amortization', 'EBITDA',\n",
    "       'EBITDA ratio', 'Operating Income', 'Operating Income ratio',\n",
    "       'Total Other Income Exp.(Gains)', 'Income Before Tax',\n",
    "       'Income Before Tax ratio', 'Income Tax Expense (Gain)',\n",
    "       'Net Income', 'Net Income Ratio', 'EPS', 'EPS Diluted',\n",
    "       'Weighted Avg. Shares Outs.', 'Weighted Avg. Shares Outs. Dil.',\n",
    "       'SEC Link', 'Cash and Cash Equivalents', 'Short-Term Investments',\n",
    "       'Cash & Short-Term Investments', 'Net Receivables', 'Inventory',\n",
    "       'Other Current Assets', 'Total Current Assets', 'PP&E', 'Goodwill',\n",
    "       'Intangible Assets', 'Goodwill and Intangible Assets',\n",
    "       'Investments', 'Tax Assets', 'Other Non-Current Assets',\n",
    "       'Total Non-Current Assets', 'Other Assets', 'Total Assets',\n",
    "       'Accounts Payable', 'Short-Term Debt', 'Tax Payable',\n",
    "       'Deferred Revenue', 'Other Current Liabilities',\n",
    "       'Total Current Liabilities', 'Long-Term Debt',\n",
    "       'Deferred Revenue.1', 'Deferred Tax Liabilities',\n",
    "       'Other Non-Current Liabilities', 'Total Non-Current Liabilities',\n",
    "       'Other Liabilities', 'Capital Lease Obligations',\n",
    "       'Total Liabilities', 'Preferred Stock', 'Common Stock',\n",
    "       'Retained Earnings', 'Other Compreh. Income(Loss)',\n",
    "       'Other Total Stockhold. Equity', 'Total Stockholders Equity',\n",
    "       'Total Liab.&Stockhold. Equity', 'Minority Interest',\n",
    "       'Total Liabilities & Equity', 'SEC Link.1', 'Net Income.1',\n",
    "       'Depreciation and Amortization.1', 'Deferred Income Tax',\n",
    "       'Stock Based Compensation', 'Change in Working Capital',\n",
    "       'Accounts Receivable', 'Inventory.1', 'Accounts Payable.1',\n",
    "       'Other Working Capital', 'Other Non-Cash Items',\n",
    "       'Cash Provided by Operating Activities', 'CAPEX',\n",
    "       'Acquisitions Net', 'Purchases of Investments',\n",
    "       'Sales/Maturities of Investments', 'Other Investing Activities',\n",
    "       'Cash Used for Investing Activities', 'Debt Repayment',\n",
    "       'Common Stock Issued', 'Common Stock Repurchased',\n",
    "       'Dividends Paid', 'Other Financing Activities',\n",
    "       'Cash Used/Provided by Financing Activities',\n",
    "       'Effect of Forex Changes on Cash', 'Net Change In Cash',\n",
    "       'Cash at the End of Period', 'Cash at the Beginning of Period',\n",
    "       'Free Cash Flow', 'SEC Link.2', 'Forex Rate'], keep='first')"
   ]
  },
  {
   "cell_type": "code",
   "execution_count": 25,
   "id": "48ffca3a",
   "metadata": {},
   "outputs": [
    {
     "data": {
      "text/html": [
       "<pre style=\"white-space:pre;overflow-x:auto;line-height:normal;font-family:Menlo,'DejaVu Sans Mono',consolas,'Courier New',monospace\"><span style=\"color: #008080; text-decoration-color: #008080; font-weight: bold\">101</span> column names have been cleaned\n",
       "</pre>\n"
      ],
      "text/plain": [
       "\u001b[1;36m101\u001b[0m column names have been cleaned\n"
      ]
     },
     "metadata": {},
     "output_type": "display_data"
    }
   ],
   "source": [
    "df = clean_columns(df)"
   ]
  },
  {
   "cell_type": "code",
   "execution_count": 30,
   "id": "a408ab03",
   "metadata": {},
   "outputs": [],
   "source": [
    "df = df.dropna(axis=0)"
   ]
  },
  {
   "cell_type": "code",
   "execution_count": 37,
   "id": "de4b154c",
   "metadata": {},
   "outputs": [],
   "source": [
    "df = df.replace(\"- -\", None)"
   ]
  },
  {
   "cell_type": "code",
   "execution_count": 39,
   "id": "55742dcb",
   "metadata": {},
   "outputs": [],
   "source": [
    "df.to_csv('data/stocks.csv')"
   ]
  },
  {
   "cell_type": "markdown",
   "id": "482fa69f",
   "metadata": {},
   "source": [
    "## Step Two"
   ]
  },
  {
   "cell_type": "code",
   "execution_count": 30,
   "id": "63f22525",
   "metadata": {},
   "outputs": [
    {
     "name": "stderr",
     "output_type": "stream",
     "text": [
      "/var/folders/0b/h0zc244107jg60tttkl4r0kw0000gn/T/ipykernel_12863/476845817.py:1: DtypeWarning: Columns (1,101) have mixed types. Specify dtype option on import or set low_memory=False.\n",
      "  df_check = pd.read_csv('data/stocks.csv')\n"
     ]
    }
   ],
   "source": [
    "df_check = pd.read_csv('data/stocks.csv')"
   ]
  },
  {
   "cell_type": "code",
   "execution_count": 7,
   "id": "e8b8c33b",
   "metadata": {},
   "outputs": [],
   "source": [
    "df = df.loc[:,~df.columns.str.contains(\"Unnamed\")]"
   ]
  },
  {
   "cell_type": "code",
   "execution_count": 8,
   "id": "a8809281",
   "metadata": {},
   "outputs": [],
   "source": [
    "df = df[df.year != 'Year']"
   ]
  },
  {
   "cell_type": "code",
   "execution_count": 9,
   "id": "20761a46",
   "metadata": {},
   "outputs": [],
   "source": [
    "df = df.fillna(\"(9999)\")"
   ]
  },
  {
   "cell_type": "code",
   "execution_count": 10,
   "id": "21cd17ba",
   "metadata": {},
   "outputs": [],
   "source": [
    "df = df.replace(',','', regex=True)"
   ]
  },
  {
   "cell_type": "code",
   "execution_count": 11,
   "id": "c9368ac3",
   "metadata": {},
   "outputs": [],
   "source": [
    "df = df.astype(str)"
   ]
  },
  {
   "cell_type": "code",
   "execution_count": 13,
   "id": "e100c947",
   "metadata": {},
   "outputs": [],
   "source": [
    "df = df.loc[:,~df.columns.str.contains(\"sec_link\")]"
   ]
  },
  {
   "cell_type": "code",
   "execution_count": 25,
   "id": "113d7019",
   "metadata": {},
   "outputs": [],
   "source": [
    "def cleaner(x):\n",
    "    \"\"\"Function that will strip a value of paranethsis and percentages and convert them into the correct values.\"\"\"\n",
    "\n",
    "    if \"(\" in x and \"%\" in x:\n",
    "        return -float(x.replace(\"(\",\"\").replace(\")\",\"\").replace(\"%\",\"\"))/100\n",
    "    elif \"(\" in x:\n",
    "        return -float(x.strip('()'))\n",
    "    elif \"%\" in x:\n",
    "        return float(x.strip(\"%\"))/100\n",
    "    else:\n",
    "        try: \n",
    "            return float(x)\n",
    "        except:\n",
    "            return x"
   ]
  },
  {
   "cell_type": "code",
   "execution_count": 27,
   "id": "3fb33f05",
   "metadata": {},
   "outputs": [],
   "source": [
    "df = df.applymap(cleaner)"
   ]
  },
  {
   "cell_type": "code",
   "execution_count": 36,
   "id": "e9ad9dc3",
   "metadata": {},
   "outputs": [],
   "source": [
    "df.to_csv(\"data/df_clean.csv\")"
   ]
  }
 ],
 "metadata": {
  "kernelspec": {
   "display_name": "Python 3.10.7 64-bit",
   "language": "python",
   "name": "python3"
  },
  "language_info": {
   "codemirror_mode": {
    "name": "ipython",
    "version": 3
   },
   "file_extension": ".py",
   "mimetype": "text/x-python",
   "name": "python",
   "nbconvert_exporter": "python",
   "pygments_lexer": "ipython3",
   "version": "3.10.7"
  },
  "vscode": {
   "interpreter": {
    "hash": "aee8b7b246df8f9039afb4144a1f6fd8d2ca17a180786b69acc140d282b71a49"
   }
  }
 },
 "nbformat": 4,
 "nbformat_minor": 5
}
