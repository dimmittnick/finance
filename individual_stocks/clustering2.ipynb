{
 "cells": [
  {
   "cell_type": "code",
   "execution_count": 1,
   "metadata": {},
   "outputs": [],
   "source": [
    "import pandas as pd\n",
    "import numpy as np\n",
    "import matplotlib.pyplot as plt\n",
    "from sklearn.model_selection import train_test_split\n",
    "from sklearn.preprocessing import RobustScaler\n",
    "from sklearn.cluster import KMeans, AffinityPropagation, MeanShift, SpectralClustering, OPTICS, Birch\n",
    "from sklearn.metrics import mutual_info_score, adjusted_mutual_info_score, rand_score, adjusted_rand_score, completeness_score, fowlkes_mallows_score, homogeneity_score, silhouette_score"
   ]
  },
  {
   "cell_type": "code",
   "execution_count": 2,
   "metadata": {},
   "outputs": [],
   "source": [
    "df = pd.read_csv(\"/Users/nickdimmitt/Desktop/finance/data/cluster_df.csv\")\n",
    "df = df.loc[:,~df.columns.str.contains(\"Unnamed\")]"
   ]
  },
  {
   "cell_type": "markdown",
   "metadata": {},
   "source": [
    "## Create Ratios"
   ]
  },
  {
   "cell_type": "code",
   "execution_count": 3,
   "metadata": {},
   "outputs": [],
   "source": [
    "df['ebit_int_cov'] = df['ebitda']/df['interest_expense']\n",
    "df['ffo'] = (df['free_cash_flow']+df['interest_expense'] - df['operating_expenses'])/df['interest_expense']\n",
    "df['ffo_to_debt'] = df['free_cash_flow']/(df['long_term_debt']+df['short_term_debt'])\n",
    "df['cf_to_debt'] = (df['cash_provided_by_operating_activities'] - df['capex'])/(df['short_term_debt'] + df['long_term_debt'])\n",
    "df['dcf_to_debt'] = (df['cash_provided_by_operating_activities'] - df['capex'] - df['dividends_paid'])/(df['short_term_debt']+df['long_term_debt'])\n",
    "df['cf_to_capex'] = (df['cash_provided_by_operating_activities'] - df['dividends_paid'])/df['capex']\n"
   ]
  },
  {
   "cell_type": "code",
   "execution_count": 4,
   "metadata": {},
   "outputs": [],
   "source": [
    "df = df.replace(np.inf, 1)\n",
    "df = df.replace(-np.inf, -1)\n",
    "df = df.fillna(-1)\n",
    "df['Sector'] = df['Sector'].replace(-1, \"N/A\")"
   ]
  },
  {
   "cell_type": "code",
   "execution_count": 18,
   "metadata": {},
   "outputs": [
    {
     "data": {
      "text/plain": [
       "Finance                   20365\n",
       "Consumer Discretionary    18300\n",
       "Health Care               15333\n",
       "Technology                11804\n",
       "Industrials               11411\n",
       "N/A                        6127\n",
       "Real Estate                4917\n",
       "Energy                     4163\n",
       "Utilities                  3841\n",
       "Consumer Staples           2805\n",
       "Telecommunications         1347\n",
       "Basic Materials            1176\n",
       "Miscellaneous               536\n",
       "Name: Sector, dtype: int64"
      ]
     },
     "execution_count": 18,
     "metadata": {},
     "output_type": "execute_result"
    }
   ],
   "source": [
    "df['Sector'].value_counts()"
   ]
  },
  {
   "cell_type": "markdown",
   "metadata": {},
   "source": [
    "### Split on Sector"
   ]
  },
  {
   "cell_type": "code",
   "execution_count": 5,
   "metadata": {},
   "outputs": [],
   "source": [
    "finance_df = df[df['Sector'] == 'Finance']\n",
    "tech_df = df[df['Sector'] == 'Technology']\n",
    "con_dis_df = df[df['Sector'] == 'Consumer Discretionary']\n",
    "health_care_df = df[df['Sector'] == 'Health Care']\n",
    "ind_df = df[df['Sector'] == \"Industrials\"]\n",
    "real_estate_df = df[df['Sector'] == 'Real Estate']\n",
    "energy_df = df[df['Sector'] == 'Energy']\n",
    "utilities_df = df[df['Sector'] == 'Utilities']\n",
    "cons_staples_df = df[df['Sector'] == 'Consumer Staples']\n",
    "telecom_df = df[df['Sector'] == 'Telecommunications']\n",
    "basic_materials_df = df[df['Sector'] == 'Basic Materials']\n",
    "misc_df = df[df['Sector'] == 'Miscellaneous']"
   ]
  },
  {
   "cell_type": "markdown",
   "metadata": {},
   "source": [
    "### Sector Leaders"
   ]
  },
  {
   "cell_type": "code",
   "execution_count": 35,
   "metadata": {},
   "outputs": [
    {
     "name": "stdout",
     "output_type": "stream",
     "text": [
      "      ticker     mkt_cap_x\n",
      "10835   BBWI  8.515297e+09\n",
      "16400   CASY  7.888395e+09\n",
      "34219   FCFS  4.083520e+09\n",
      "18938   CHPT  3.304087e+09\n",
      "62319    NCR  3.118800e+09\n",
      "99490   WOOF  2.672496e+09\n",
      "67640   OLPX  2.590234e+09\n",
      "53487   LESL  2.214945e+09\n",
      "66982    ODP  2.183794e+09\n",
      "79985    SBH  1.650714e+09\n",
      "36790   FREY  1.042201e+09\n"
     ]
    }
   ],
   "source": [
    "print(misc_df[['ticker', 'mkt_cap_x']].drop_duplicates(subset='ticker').sort_values(by='mkt_cap_x', ascending=False).head(11))"
   ]
  },
  {
   "cell_type": "markdown",
   "metadata": {},
   "source": [
    "## Clustering by Sector (Birch)"
   ]
  },
  {
   "cell_type": "code",
   "execution_count": 6,
   "metadata": {},
   "outputs": [],
   "source": [
    "features = [\n",
    "       'div_payout_ratio',\n",
    "       'gross_profit_ratio',\n",
    "       'inventory_turnover_ratio',\n",
    "       'current_ratio',\n",
    "       'quick_ratio',\n",
    "       'debt_ratio',\n",
    "       'debt_to_worth', \n",
    "       'equity_ratio',\n",
    "       'debt_to_tangible_net_worth',\n",
    "       'interest_cov',\n",
    "       'cash_flow_cov',\n",
    "       'roa',\n",
    "       'roe',\n",
    "       'return_on_invested_capital', \n",
    "       'gross_profit_margin',\n",
    "       'ebitda_margin', \n",
    "       'net_profit_ratio', \n",
    "       'asset_turnovers',\n",
    "       'ebit_int_cov', \n",
    "       'ffo', \n",
    "       'ffo_to_debt', \n",
    "       'cf_to_debt', \n",
    "       'dcf_to_debt',\n",
    "       'cf_to_capex', \n",
    "       'ebitda_ratio', \n",
    "       'operating_income_ratio', \n",
    "       'income_before_tax_ratio', \n",
    "       'net_income_ratio', \n",
    "       'eps', \n",
    "       'eps_diluted']"
   ]
  },
  {
   "cell_type": "markdown",
   "metadata": {},
   "source": [
    "#### Finance"
   ]
  },
  {
   "cell_type": "code",
   "execution_count": 38,
   "metadata": {},
   "outputs": [],
   "source": [
    "X = finance_df[features]\n",
    "\n",
    "X = RobustScaler().fit_transform(X)"
   ]
  },
  {
   "cell_type": "code",
   "execution_count": 44,
   "metadata": {},
   "outputs": [
    {
     "name": "stdout",
     "output_type": "stream",
     "text": [
      "5\n",
      "20\n",
      "35\n",
      "50\n",
      "65\n",
      "80\n",
      "95\n",
      "110\n",
      "125\n",
      "140\n",
      "155\n",
      "170\n",
      "185\n",
      "200\n",
      "215\n",
      "230\n",
      "245\n",
      "260\n",
      "275\n",
      "290\n",
      "305\n",
      "320\n",
      "335\n",
      "350\n",
      "365\n",
      "380\n",
      "395\n"
     ]
    },
    {
     "data": {
      "image/png": "[encoded data removed]",
      "text/plain": [
       "<Figure size 640x480 with 1 Axes>"
      ]
     },
     "metadata": {},
     "output_type": "display_data"
    }
   ],
   "source": [
    "range_n_clusters = range(5,400,15)\n",
    "silhouette_avg = []\n",
    "for num_clusters in range_n_clusters:\n",
    " \n",
    " # initialise kmeans\n",
    "    birch = Birch(n_clusters=num_clusters)\n",
    "    birch.fit(X)\n",
    "    cluster_labels = birch.labels_\n",
    "    print(num_clusters)\n",
    " # silhouette score\n",
    "    silhouette_avg.append(silhouette_score(X, cluster_labels))\n",
    "    \n",
    "plt.plot(range_n_clusters,silhouette_avg,'bx-')\n",
    "plt.xlabel('Values of K') \n",
    "plt.ylabel('Silhouette score') \n",
    "plt.title('Silhouette analysis For Optimal k')\n",
    "plt.show()"
   ]
  },
  {
   "cell_type": "code",
   "execution_count": 47,
   "metadata": {},
   "outputs": [
    {
     "name": "stderr",
     "output_type": "stream",
     "text": [
      "/var/folders/0b/h0zc244107jg60tttkl4r0kw0000gn/T/ipykernel_10993/4269053702.py:3: SettingWithCopyWarning: \n",
      "A value is trying to be set on a copy of a slice from a DataFrame.\n",
      "Try using .loc[row_indexer,col_indexer] = value instead\n",
      "\n",
      "See the caveats in the documentation: https://pandas.pydata.org/pandas-docs/stable/user_guide/indexing.html#returning-a-view-versus-a-copy\n",
      "  finance_df['label'] = birch.labels_\n"
     ]
    }
   ],
   "source": [
    "birch = Birch(n_clusters=150)\n",
    "birch.fit(X)\n",
    "finance_df['label'] = birch.labels_"
   ]
  },
  {
   "cell_type": "code",
   "execution_count": null,
   "metadata": {},
   "outputs": [],
   "source": [
    "labels = [35, 1, 108]"
   ]
  },
  {
   "cell_type": "code",
   "execution_count": 115,
   "metadata": {},
   "outputs": [
    {
     "data": {
      "text/html": [
       "<div>\n",
       "<style scoped>\n",
       "    .dataframe tbody tr th:only-of-type {\n",
       "        vertical-align: middle;\n",
       "    }\n",
       "\n",
       "    .dataframe tbody tr th {\n",
       "        vertical-align: top;\n",
       "    }\n",
       "\n",
       "    .dataframe thead th {\n",
       "        text-align: right;\n",
       "    }\n",
       "</style>\n",
       "<table border=\"1\" class=\"dataframe\">\n",
       "  <thead>\n",
       "    <tr style=\"text-align: right;\">\n",
       "      <th></th>\n",
       "      <th>ticker</th>\n",
       "      <th>year</th>\n",
       "      <th>year_2</th>\n",
       "      <th>mkt_cap_x</th>\n",
       "    </tr>\n",
       "  </thead>\n",
       "  <tbody>\n",
       "  </tbody>\n",
       "</table>\n",
       "</div>"
      ],
      "text/plain": [
       "Empty DataFrame\n",
       "Columns: [ticker, year, year_2, mkt_cap_x]\n",
       "Index: []"
      ]
     },
     "execution_count": 115,
     "metadata": {},
     "output_type": "execute_result"
    }
   ],
   "source": [
    "finance_df[(finance_df['label'] == 38) & (finance_df['year'] == 2022)][['ticker', 'year', 'year_2', 'mkt_cap_x']]"
   ]
  },
  {
   "cell_type": "code",
   "execution_count": 91,
   "metadata": {},
   "outputs": [],
   "source": [
    "finance_df[finance_df['label'] == 20].sort_values(['mkt_cap_x', 'year'], ascending=False)[['ticker', 'year', 'year_2', 'mkt_cap_x']].to_csv(\"1.csv\")"
   ]
  },
  {
   "cell_type": "markdown",
   "metadata": {},
   "source": [
    "## Technology"
   ]
  },
  {
   "cell_type": "code",
   "execution_count": 7,
   "metadata": {},
   "outputs": [],
   "source": [
    "X = tech_df[features]\n",
    "\n",
    "X = RobustScaler().fit_transform(X)"
   ]
  },
  {
   "cell_type": "code",
   "execution_count": 8,
   "metadata": {},
   "outputs": [
    {
     "data": {
      "image/png": "[encoded data removed]",
      "text/plain": [
       "<Figure size 640x480 with 1 Axes>"
      ]
     },
     "metadata": {},
     "output_type": "display_data"
    }
   ],
   "source": [
    "range_n_clusters = range(5,400,15)\n",
    "silhouette_avg = []\n",
    "for num_clusters in range_n_clusters:\n",
    " \n",
    " # initialise kmeans\n",
    "    birch = Birch(n_clusters=num_clusters)\n",
    "    birch.fit(X)\n",
    "    cluster_labels = birch.labels_\n",
    " # silhouette score\n",
    "    silhouette_avg.append(silhouette_score(X, cluster_labels))\n",
    "    \n",
    "plt.plot(range_n_clusters,silhouette_avg,'bx-')\n",
    "plt.xlabel('Values of K') \n",
    "plt.ylabel('Silhouette score') \n",
    "plt.title('Silhouette analysis For Optimal k')\n",
    "plt.show()"
   ]
  },
  {
   "cell_type": "code",
   "execution_count": 9,
   "metadata": {},
   "outputs": [
    {
     "name": "stderr",
     "output_type": "stream",
     "text": [
      "/var/folders/0b/h0zc244107jg60tttkl4r0kw0000gn/T/ipykernel_15479/1140305380.py:3: SettingWithCopyWarning: \n",
      "A value is trying to be set on a copy of a slice from a DataFrame.\n",
      "Try using .loc[row_indexer,col_indexer] = value instead\n",
      "\n",
      "See the caveats in the documentation: https://pandas.pydata.org/pandas-docs/stable/user_guide/indexing.html#returning-a-view-versus-a-copy\n",
      "  tech_df['label'] = birch.labels_\n"
     ]
    }
   ],
   "source": [
    "birch = Birch(n_clusters=145)\n",
    "birch.fit(X)\n",
    "tech_df['label'] = birch.labels_"
   ]
  },
  {
   "cell_type": "code",
   "execution_count": null,
   "metadata": {},
   "outputs": [],
   "source": [
    "labels = [33, 30, 59, 28, 143, 41, 3, 94, 126, 60, 43, 58, 76, 140, 115, 57]"
   ]
  },
  {
   "cell_type": "code",
   "execution_count": 63,
   "metadata": {},
   "outputs": [
    {
     "data": {
      "text/html": [
       "<div>\n",
       "<style scoped>\n",
       "    .dataframe tbody tr th:only-of-type {\n",
       "        vertical-align: middle;\n",
       "    }\n",
       "\n",
       "    .dataframe tbody tr th {\n",
       "        vertical-align: top;\n",
       "    }\n",
       "\n",
       "    .dataframe thead th {\n",
       "        text-align: right;\n",
       "    }\n",
       "</style>\n",
       "<table border=\"1\" class=\"dataframe\">\n",
       "  <thead>\n",
       "    <tr style=\"text-align: right;\">\n",
       "      <th></th>\n",
       "      <th>ticker</th>\n",
       "      <th>year</th>\n",
       "      <th>year_2</th>\n",
       "      <th>mkt_cap_x</th>\n",
       "    </tr>\n",
       "  </thead>\n",
       "  <tbody>\n",
       "    <tr>\n",
       "      <th>22907</th>\n",
       "      <td>CRM</td>\n",
       "      <td>2021.0</td>\n",
       "      <td>21</td>\n",
       "      <td>1.731800e+11</td>\n",
       "    </tr>\n",
       "    <tr>\n",
       "      <th>32041</th>\n",
       "      <td>ERIC</td>\n",
       "      <td>2021.0</td>\n",
       "      <td>36</td>\n",
       "      <td>1.801525e+10</td>\n",
       "    </tr>\n",
       "  </tbody>\n",
       "</table>\n",
       "</div>"
      ],
      "text/plain": [
       "      ticker    year  year_2     mkt_cap_x\n",
       "22907    CRM  2021.0      21  1.731800e+11\n",
       "32041   ERIC  2021.0      36  1.801525e+10"
      ]
     },
     "execution_count": 63,
     "metadata": {},
     "output_type": "execute_result"
    }
   ],
   "source": [
    "tech_df[(tech_df['label'] == 57) & (tech_df['year'] == 2021)][['ticker', 'year', 'year_2', 'mkt_cap_x']]"
   ]
  },
  {
   "cell_type": "code",
   "execution_count": 64,
   "metadata": {},
   "outputs": [],
   "source": [
    "tech_df[tech_df['label'] == 57].sort_values(['mkt_cap_x', 'year'], ascending=False)[['ticker', 'year', 'year_2', 'mkt_cap_x']].to_csv(\"1.csv\")"
   ]
  },
  {
   "cell_type": "code",
   "execution_count": null,
   "metadata": {},
   "outputs": [],
   "source": []
  }
 ],
 "metadata": {
  "kernelspec": {
   "display_name": "Python 3.10.7 64-bit",
   "language": "python",
   "name": "python3"
  },
  "language_info": {
   "codemirror_mode": {
    "name": "ipython",
    "version": 3
   },
   "file_extension": ".py",
   "mimetype": "text/x-python",
   "name": "python",
   "nbconvert_exporter": "python",
   "pygments_lexer": "ipython3",
   "version": "3.10.7"
  },
  "orig_nbformat": 4,
  "vscode": {
   "interpreter": {
    "hash": "aee8b7b246df8f9039afb4144a1f6fd8d2ca17a180786b69acc140d282b71a49"
   }
  }
 },
 "nbformat": 4,
 "nbformat_minor": 2
}
